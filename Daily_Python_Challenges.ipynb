{
  "nbformat": 4,
  "nbformat_minor": 0,
  "metadata": {
    "colab": {
      "provenance": [],
      "authorship_tag": "ABX9TyNKqtpZSxgf2ARft/csQSfF",
      "include_colab_link": true
    },
    "kernelspec": {
      "name": "python3",
      "display_name": "Python 3"
    },
    "language_info": {
      "name": "python"
    }
  },
  "cells": [
    {
      "cell_type": "markdown",
      "metadata": {
        "id": "view-in-github",
        "colab_type": "text"
      },
      "source": [
        "<a href=\"https://colab.research.google.com/github/aqsakhaskheli/Google-Colab-With-Python/blob/main/Daily_Python_Challenges.ipynb\" target=\"_parent\"><img src=\"https://colab.research.google.com/assets/colab-badge.svg\" alt=\"Open In Colab\"/></a>"
      ]
    },
    {
      "cell_type": "markdown",
      "source": [
        "# **Task 1**\n",
        "Print a Message"
      ],
      "metadata": {
        "id": "4PDHMZCfh5qk"
      }
    },
    {
      "cell_type": "code",
      "source": [
        "print(\"Hello, World! Welcome to Pyhton Programming. Let's start coding!\")"
      ],
      "metadata": {
        "colab": {
          "base_uri": "https://localhost:8080/"
        },
        "id": "mXOjrOzwiWEW",
        "outputId": "6a2e9934-e5f8-4e74-c119-48236a2ec9f1"
      },
      "execution_count": 2,
      "outputs": [
        {
          "output_type": "stream",
          "name": "stdout",
          "text": [
            "Hello, World! Welcome to Pyhton Programming. Let's start coding!\n"
          ]
        }
      ]
    },
    {
      "cell_type": "markdown",
      "source": [
        "# **Task 2**\n",
        "AI Greeting"
      ],
      "metadata": {
        "id": "tEalhBB4jV3U"
      }
    },
    {
      "cell_type": "code",
      "source": [
        "name = input(\"Hello! I'm your AI assistant. What's your name? \")\n",
        "print(f\"Welcome, {name}! I'm here to help you with Python. Let's code and innovate together!\")"
      ],
      "metadata": {
        "colab": {
          "base_uri": "https://localhost:8080/"
        },
        "id": "j45G61HZjs-n",
        "outputId": "09a3c0fe-16fb-40ac-b034-fd6a00317b6a"
      },
      "execution_count": 5,
      "outputs": [
        {
          "output_type": "stream",
          "name": "stdout",
          "text": [
            "Hello! I'm your AI assistant. What's your name? buno\n",
            "Welcome, buno! I'm here to help you with Python. Let's code and innovate together!\n"
          ]
        }
      ]
    },
    {
      "cell_type": "markdown",
      "source": [
        "# **Task 3**\n",
        "Smart Calculator"
      ],
      "metadata": {
        "id": "rZ8uYcU0kiBz"
      }
    },
    {
      "cell_type": "code",
      "source": [],
      "metadata": {
        "id": "h1uFerqHkoPd"
      },
      "execution_count": null,
      "outputs": []
    }
  ]
}