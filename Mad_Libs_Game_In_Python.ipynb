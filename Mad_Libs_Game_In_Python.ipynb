{
  "nbformat": 4,
  "nbformat_minor": 0,
  "metadata": {
    "colab": {
      "provenance": [],
      "authorship_tag": "ABX9TyNubU4HYQeKRKvs9O5fMeRx",
      "include_colab_link": true
    },
    "kernelspec": {
      "name": "python3",
      "display_name": "Python 3"
    },
    "language_info": {
      "name": "python"
    }
  },
  "cells": [
    {
      "cell_type": "markdown",
      "metadata": {
        "id": "view-in-github",
        "colab_type": "text"
      },
      "source": [
        "<a href=\"https://colab.research.google.com/github/aqsakhaskheli/Google-Colab-With-Python/blob/main/Mad_Libs_Game_In_Python.ipynb\" target=\"_parent\"><img src=\"https://colab.research.google.com/assets/colab-badge.svg\" alt=\"Open In Colab\"/></a>"
      ]
    },
    {
      "cell_type": "code",
      "source": [
        "name = input (\"Enter a girl name:\")\n",
        "programming_language = input(\"Enter a programming language: (e.g: pyhton, nextjs, tyerscript, html): \")\n",
        "mentor = input (\"Enter the mentor name: \")\n",
        "location = input (\"Enter location e.g: governor house\")\n",
        "#story created\n",
        "print(\"\\n Here is my little story based on mad libs game!\")\n",
        "print(f\"Once upone a time, there was a girl named {name}.\")\n",
        "print(f\"{name} was very cute and always want to learn new things\")\n",
        "print(f\"One day, she decided to learn {programming_language} language at {location}\")\n",
        "print(f\"Luckily {name} found a great mentor name as {mentor} who was expert in {programming_language}.\")\n",
        "print(\"And so, his journey continues......!\")\n"
      ],
      "metadata": {
        "colab": {
          "base_uri": "https://localhost:8080/"
        },
        "id": "Ah1zOt_pADKX",
        "outputId": "ea827962-3ce7-474c-cdcf-e57e020e0fbf"
      },
      "execution_count": 5,
      "outputs": [
        {
          "output_type": "stream",
          "name": "stdout",
          "text": [
            "Enter a girl name:Fatima Batool\n",
            "Enter a programming language: (e.g: pyhton, nextjs, tyerscript, html): Python\n",
            "Enter the mentor name: Aqsa Khaskheli\n",
            "Enter location e.g: governor house GIAIC\n",
            "\n",
            " Here is my little story based on mad libs game!\n",
            "Once upone a time, there was a girl named Fatima Batool.\n",
            "Fatima Batool was very cute and always want to learn new things\n",
            "One day, she decided to learn Python language at  GIAIC\n",
            "Luckily Fatima Batool found a great mentor name as Aqsa Khaskheli who was expert in Python.\n",
            "And so, his journey continues......!\n"
          ]
        }
      ]
    }
  ]
}